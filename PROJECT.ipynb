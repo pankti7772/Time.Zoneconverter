{
 "cells": [
  {
   "cell_type": "code",
   "execution_count": 1,
   "id": "a4ccdd8e",
   "metadata": {},
   "outputs": [
    {
     "ename": "SyntaxError",
     "evalue": "invalid non-printable character U+00A0 (1917617835.py, line 47)",
     "output_type": "error",
     "traceback": [
      "\u001b[1;36m  Input \u001b[1;32mIn [1]\u001b[1;36m\u001b[0m\n\u001b[1;33m    \u001b[0m\n\u001b[1;37m    ^\u001b[0m\n\u001b[1;31mSyntaxError\u001b[0m\u001b[1;31m:\u001b[0m invalid non-printable character U+00A0\n"
     ]
    }
   ],
   "source": [
    "from datetime import datetime\n",
    "import pytz\n",
    "IST = pytz.timezone('Asia/Kolkata')\n",
    "AFR = pytz.timezone('Africa/Abidjan')\n",
    "USA = pytz.timezone('America/Adak')\n",
    "DBI = pytz.timezone('Asia/Dubai')\n",
    "TKY = pytz.timezone('Asia/Tokyo')\n",
    "AUS = pytz.timezone('Australia/Victoria')\n",
    "BRZ = pytz.timezone('Brazil/Acre')\n",
    "EUR = pytz.timezone('Europe/Astrakhan')\n",
    "TRK = pytz.timezone('Turkey')\n",
    "SNG = pytz.timezone('Singapore')\n",
    "\n",
    "print(\"A time zone is an area which observes a uniform standard time for legal,\\ncommercial and social purposes. This is a python program developed for\\ndisplaying current local time of selected timezones.\\n\\n1) Enter IST for India\\n2) Enter AFR for Africa\\n3) Enter USA for USA\\n4) Enter DBI for Dubai\\n5) Enter TKY for Tokyo\\n6) Enter AUS for Austrailia\\n7) Enter BRZ for Brazil\\n8) Enter EUR for Europe\\n9) Enter TRK for Turkey\\n10)Enter SNG for Singapore\\n \")\n",
    "i=1\n",
    "while i<1000:\n",
    "    country = input(\"Enter country name : \")\n",
    "    if country== \"IST\":\n",
    "        print(\"Current local time in India : \",datetime.now(IST))\n",
    "\n",
    "    if country== \"AFR\":\n",
    "        print(\"Current local time in Africa : \",datetime.now(AFR))\n",
    "\n",
    "    if country== \"USA\":\n",
    "        print(\"Current local time in USA : \",datetime.now(USA))\n",
    "\n",
    "    if country== \"DBI\":\n",
    "        print(\"Current local time in Dubai : \",datetime.now(DBI))\n",
    "    \n",
    "    if country== \"TKY\":\n",
    "        print(\"Current local time in Tokyo : \",datetime.now(TKY))\n",
    "    \n",
    "    if country== \"AUS\":\n",
    "        print(\"Current local time in Austrailia : \",datetime.now(AUS))\n",
    "    \n",
    "    if country== \"BRZ\":\n",
    "        print(\"Current local time in Brazil : \",datetime.now(BRZ))\n",
    "    \n",
    "    if country== \"EUR\":\n",
    "        print(\"Current local time in Europe : \",datetime.now(EUR))\n",
    "    \n",
    "    if country== \"TRK\":\n",
    "        print(\"Current local time in Turkey : \",datetime.now(TRK))\n",
    "    \n",
    "    if country== \"SNG\":\n",
    "        print(\"Current local time in Singapore : \",datetime.now(SNG))\n",
    "    \n",
    "    i+=1"
   ]
  },
  {
   "cell_type": "code",
   "execution_count": null,
   "id": "ebd889df",
   "metadata": {},
   "outputs": [],
   "source": []
  }
 ],
 "metadata": {
  "kernelspec": {
   "display_name": "Python 3 (ipykernel)",
   "language": "python",
   "name": "python3"
  },
  "language_info": {
   "codemirror_mode": {
    "name": "ipython",
    "version": 3
   },
   "file_extension": ".py",
   "mimetype": "text/x-python",
   "name": "python",
   "nbconvert_exporter": "python",
   "pygments_lexer": "ipython3",
   "version": "3.9.12"
  }
 },
 "nbformat": 4,
 "nbformat_minor": 5
}
